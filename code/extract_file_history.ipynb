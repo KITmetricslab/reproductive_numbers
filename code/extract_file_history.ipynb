{
 "cells": [
  {
   "cell_type": "markdown",
   "metadata": {},
   "source": [
    "# Setup"
   ]
  },
  {
   "source": [
    "# Before running, you have to set the parameters at these numbers: 1, 2"
   ],
   "cell_type": "markdown",
   "metadata": {}
  },
  {
   "cell_type": "code",
   "execution_count": null,
   "metadata": {},
   "outputs": [],
   "source": [
    "import json\n",
    "import yaml\n",
    "import requests\n",
    "import pandas as pd"
   ]
  },
  {
   "cell_type": "code",
   "execution_count": null,
   "metadata": {},
   "outputs": [],
   "source": [
    "# to visualize progress bars\n",
    "from tqdm.auto import tqdm\n",
    "tqdm.pandas()"
   ]
  },
  {
   "cell_type": "code",
   "execution_count": null,
   "metadata": {},
   "outputs": [],
   "source": [
    "# we need a github access token to perform a large number of requests (rate limit)\n",
    "with open(\"config.yml\", 'r') as ymlfile:\n",
    "    cfg = yaml.safe_load(ymlfile)\n",
    "\n",
    "token = cfg['access_token']\n",
    "headers = {'Authorization': 'token ' + token}"
   ]
  },
  {
   "cell_type": "code",
   "execution_count": null,
   "metadata": {},
   "outputs": [],
   "source": [
    "token"
   ]
  },
  {
   "cell_type": "code",
   "execution_count": null,
   "metadata": {},
   "outputs": [],
   "source": [
    "# 1, change comments where needed\n",
    "\n",
    "# for ETHZ:\n",
    "# repo_name = 'covid-19-Re/dailyRe-Data'\n",
    "# branch = 'master'\n",
    "# file_path = 'DEU-estimates.csv'\n",
    "\n",
    "# for TU Ilmenau:\n",
    "# repo_name = 'Stochastik-TU-Ilmenau/COVID-19'\n",
    "# branch = 'gh-pages'\n",
    "# file_path = 'data/estimates/Germany_RKI_R.csv'\n",
    "\n",
    "# for OWID:\n",
    "# repo_name = 'owid/covid-19-data'\n",
    "# branch = 'master'\n",
    "# file_path = 'public/data/owid-covid-data.csv'\n",
    "# Note that OWID reports reproduction_rate only since 2020-11-13, this script will also download older data. This older data has to be removed from the data-raw folder before running the \"process_historic_data_owid.r\" script.\n",
    "\n",
    "# for globalrt:\n",
    "repo_name = 'crondonm/TrackingR'\n",
    "branch = 'main'\n",
    "file_path = 'Estimates-Database/database.csv'\n"
   ]
  },
  {
   "cell_type": "markdown",
   "metadata": {},
   "source": [
    "# Get commit history"
   ]
  },
  {
   "cell_type": "code",
   "execution_count": null,
   "metadata": {},
   "outputs": [],
   "source": [
    "# retrieve information about all commits that modified the file we want\n",
    "all_commits = []\n",
    "\n",
    "page = 0\n",
    "while True:\n",
    "    page += 1\n",
    "    r = requests.get('https://api.github.com/repos/{}/commits'.format(repo_name),\n",
    "                     params = {'sha': branch, 'path': file_path, 'page': str(page)},\n",
    "                     headers=headers)\n",
    "\n",
    "    if (not r.ok) or (r.text == '[]'): break\n",
    "\n",
    "    all_commits += json.loads(r.text or r.content)"
   ]
  },
  {
   "cell_type": "code",
   "execution_count": null,
   "metadata": {},
   "outputs": [],
   "source": [
    "all_commits"
   ]
  },
  {
   "cell_type": "code",
   "execution_count": 8,
   "metadata": {},
   "outputs": [],
   "source": [
    "# extract sha of each commit\n",
    "all_shas = [c['sha'] for c in all_commits]"
   ]
  },
  {
   "cell_type": "code",
   "execution_count": 9,
   "metadata": {},
   "outputs": [],
   "source": [
    "# date of each commit\n",
    "commit_dates = [pd.to_datetime(c['commit']['author']['date']) for c in all_commits]"
   ]
  },
  {
   "cell_type": "code",
   "execution_count": 10,
   "metadata": {},
   "outputs": [],
   "source": [
    "# combine into dataframe\n",
    "df = pd.DataFrame({'sha': all_shas, 'commit_date': commit_dates})"
   ]
  },
  {
   "cell_type": "code",
   "execution_count": 11,
   "metadata": {},
   "outputs": [],
   "source": [
    "# date without time\n",
    "df['date'] = df.commit_date.dt.date"
   ]
  },
  {
   "cell_type": "code",
   "execution_count": 12,
   "metadata": {},
   "outputs": [],
   "source": [
    "# only consider last commit made each day\n",
    "df = df.loc[df.groupby('date')['commit_date'].idxmax()]"
   ]
  },
  {
   "cell_type": "code",
   "execution_count": 13,
   "metadata": {},
   "outputs": [
    {
     "output_type": "execute_result",
     "data": {
      "text/plain": [
       "                                          sha               commit_date  \\\n",
       "128  00136f39adfc338dbc61905bdea4ec6528006e01 2021-02-10 13:03:37+00:00   \n",
       "127  26a022695dc5a02b267a35e46c56f9b5e0753dd6 2021-02-11 15:32:41+00:00   \n",
       "126  99be4e19a115b391df2f9ae22589034bcfbf6c46 2021-02-12 11:17:17+00:00   \n",
       "125  316c5740dc6a120764841d94c0328951cb271d8b 2021-02-14 11:35:35+00:00   \n",
       "123  6473a8370e031e0ba07e41981820cd9d143f2a45 2021-02-15 23:28:34+00:00   \n",
       "\n",
       "           date  \n",
       "128  2021-02-10  \n",
       "127  2021-02-11  \n",
       "126  2021-02-12  \n",
       "125  2021-02-14  \n",
       "123  2021-02-15  "
      ],
      "text/html": "<div>\n<style scoped>\n    .dataframe tbody tr th:only-of-type {\n        vertical-align: middle;\n    }\n\n    .dataframe tbody tr th {\n        vertical-align: top;\n    }\n\n    .dataframe thead th {\n        text-align: right;\n    }\n</style>\n<table border=\"1\" class=\"dataframe\">\n  <thead>\n    <tr style=\"text-align: right;\">\n      <th></th>\n      <th>sha</th>\n      <th>commit_date</th>\n      <th>date</th>\n    </tr>\n  </thead>\n  <tbody>\n    <tr>\n      <th>128</th>\n      <td>00136f39adfc338dbc61905bdea4ec6528006e01</td>\n      <td>2021-02-10 13:03:37+00:00</td>\n      <td>2021-02-10</td>\n    </tr>\n    <tr>\n      <th>127</th>\n      <td>26a022695dc5a02b267a35e46c56f9b5e0753dd6</td>\n      <td>2021-02-11 15:32:41+00:00</td>\n      <td>2021-02-11</td>\n    </tr>\n    <tr>\n      <th>126</th>\n      <td>99be4e19a115b391df2f9ae22589034bcfbf6c46</td>\n      <td>2021-02-12 11:17:17+00:00</td>\n      <td>2021-02-12</td>\n    </tr>\n    <tr>\n      <th>125</th>\n      <td>316c5740dc6a120764841d94c0328951cb271d8b</td>\n      <td>2021-02-14 11:35:35+00:00</td>\n      <td>2021-02-14</td>\n    </tr>\n    <tr>\n      <th>123</th>\n      <td>6473a8370e031e0ba07e41981820cd9d143f2a45</td>\n      <td>2021-02-15 23:28:34+00:00</td>\n      <td>2021-02-15</td>\n    </tr>\n  </tbody>\n</table>\n</div>"
     },
     "metadata": {},
     "execution_count": 13
    }
   ],
   "source": [
    "df.head()"
   ]
  },
  {
   "cell_type": "markdown",
   "metadata": {},
   "source": [
    "# Download and save files"
   ]
  },
  {
   "cell_type": "code",
   "execution_count": 15,
   "metadata": {},
   "outputs": [
    {
     "output_type": "stream",
     "name": "stderr",
     "text": [
      "100%|██████████| 128/128 [21:20<00:00, 10.01s/it]\n"
     ]
    }
   ],
   "source": [
    "# iterate over the rows of df and download the corresponding file\n",
    "for index, row in tqdm(df.iterrows(), total=df.shape[0]):  \n",
    "    try:      \n",
    "        df_temp = pd.read_csv('https://raw.githubusercontent.com/{}/{}/{}'.format(repo_name, row['sha'], file_path),\n",
    "                          low_memory=False)\n",
    "    except:\n",
    "        pass\n",
    "#2\n",
    "    # result_path =  '../data-raw/ETH Zürich/' + str(row['date']) + '_zürich_raw.csv'\n",
    "    # result_path =  '../data-raw/TU Ilmenau/' + str(row['date']) + '_Ilmenau_raw.csv'\n",
    "    # result_path =  '../data-raw/owid/' + str(row['date']) + '_owid_raw.csv'\n",
    "    result_path =  '../data-raw/globalrt/' + str(row['date']) + '_globalrt_raw.csv'\n",
    "    # for owid only: filter only data from Germany:\n",
    "    # df_temp = df_temp.loc[df_temp['iso_code'] == 'DEU']\n",
    "    # for globalrt only: filter only data from Germany:\n",
    "    df_temp = df_temp.loc[df_temp['Country/Region'] == 'Germany']\n",
    "    #\n",
    "    df_temp.to_csv(result_path, index=False)"
   ]
  },
  {
   "cell_type": "code",
   "execution_count": null,
   "metadata": {},
   "outputs": [],
   "source": []
  }
 ],
 "metadata": {
  "kernelspec": {
   "name": "python3",
   "display_name": "Python 3.9.1 64-bit"
  },
  "language_info": {
   "codemirror_mode": {
    "name": "ipython",
    "version": 3
   },
   "file_extension": ".py",
   "mimetype": "text/x-python",
   "name": "python",
   "nbconvert_exporter": "python",
   "pygments_lexer": "ipython3",
   "version": "3.9.1"
  },
  "metadata": {
   "interpreter": {
    "hash": "3209603dc16fa08139850b0fbcec5529b2035f6d8448c78a588ebbadffc6ff1e"
   }
  },
  "interpreter": {
   "hash": "3209603dc16fa08139850b0fbcec5529b2035f6d8448c78a588ebbadffc6ff1e"
  }
 },
 "nbformat": 4,
 "nbformat_minor": 2
}