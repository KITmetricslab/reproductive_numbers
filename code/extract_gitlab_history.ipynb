{
 "cells": [
  {
   "cell_type": "code",
   "execution_count": 1,
   "metadata": {},
   "outputs": [],
   "source": [
    "import gitlab, yaml\n",
    "\n",
    "with open(\"config.yml\", 'r') as ymlfile:\n",
    "    cfg = yaml.safe_load(ymlfile)\n",
    "\n",
    "token = cfg['gitlab_token']\n",
    "\n",
    "gl = gitlab.Gitlab('https://gitlab.com', private_token=token, api_version=4)\n",
    "gl.auth()\n",
    "project = gl.projects.get('simm/covid19/secir')\n",
    "# commits = project.commits.list(all=True)"
   ]
  },
  {
   "cell_type": "code",
   "execution_count": 3,
   "metadata": {},
   "outputs": [],
   "source": [
    "import pandas as pd\n",
    "from io import StringIO\n",
    "from tqdm.auto import tqdm\n",
    "tqdm.pandas()\n",
    "\n",
    "# to retrieve all commits, clone the repo and run the following command in terminal:\n",
    "#  git rev-list HEAD img/dynamic/Rt_rawData/Germany_Rt.csv >> all-commits.txt\n",
    "# then copy the file with the results into this folder here\n",
    "\n",
    "all_commits = pd.read_csv('../data-raw/Braunschweig/all-commits.txt', sep = '\\n', header=None)"
   ]
  },
  {
   "cell_type": "code",
   "execution_count": 5,
   "metadata": {},
   "outputs": [
    {
     "name": "stderr",
     "output_type": "stream",
     "text": [
      "100%|██████████| 280/280 [02:23<00:00,  1.96it/s]\n"
     ]
    }
   ],
   "source": [
    "files_not_found = 0\n",
    "for c in tqdm(all_commits.iloc[:,0]):\n",
    "    # download file for a specific commit\n",
    "    try:\n",
    "        file = project.files.raw(file_path='img/dynamic/Rt_rawData/Germany_Rt.csv', ref=c)\n",
    "    except:\n",
    "        files_not_found += 1\n",
    "    # convert file from byte to str\n",
    "    s = str(file, 'utf-8')\n",
    "    # read file as DataFrame\n",
    "    df = pd.read_csv(StringIO(s))\n",
    "    df = df.dropna()\n",
    "    # write DataFrame to .csv-file\n",
    "    date = df['date'][len(df) - 1]\n",
    "    df.to_csv(\"../data-raw/Braunschweig/\" + date + \"-Braunschweig_raw.csv\", index_label=False, index=False)"
   ]
  },
  {
   "cell_type": "code",
   "execution_count": 2,
   "metadata": {},
   "outputs": [
    {
     "name": "stderr",
     "output_type": "stream",
     "text": [
      "100%|██████████| 345/345 [03:09<00:00,  1.82it/s]\n"
     ]
    }
   ],
   "source": [
    "\"\"\"\n",
    "previous try to retrieve the commits via the API: does not work properly, only 26 commits for this file!\n",
    "\n",
    "from collections import defaultdict\n",
    "from tqdm.auto import tqdm\n",
    "tqdm.pandas()\n",
    "# file paths and a list of commits which create/modify/delete the file\n",
    "file_map = defaultdict(list)\n",
    "\n",
    "# save file names if their name changed\n",
    "file_names = set()\n",
    "\n",
    "for c in tqdm(commits):\n",
    "    diff = c.diff()\n",
    "    files_changed = set()\n",
    "    for change in diff:\n",
    "        files_changed.add(change['old_path'])\n",
    "        files_changed.add(change['new_path'])\n",
    "        # check if file name changed:\n",
    "        if change['old_path'] != change['new_path']:\n",
    "            file_names.add((change['old_path'],change['new_path'] ))\n",
    "    for path in files_changed:\n",
    "        file_map[path].append(c)\n",
    "\n",
    "#  show list of commits which modified e.g. README.md\n",
    "# print(file_map['README.md'])\n",
    "\"\"\""
   ]
  },
  {
   "cell_type": "code",
   "execution_count": null,
   "metadata": {},
   "outputs": [],
   "source": [
    "# file_names # check this list for your specific file to see if it had a different name previously"
   ]
  },
  {
   "cell_type": "code",
   "execution_count": 13,
   "metadata": {},
   "outputs": [
    {
     "name": "stderr",
     "output_type": "stream",
     "text": [
      "100%|██████████| 26/26 [00:29<00:00,  1.12s/it]\n"
     ]
    }
   ],
   "source": [
    "\"\"\"\n",
    "# save files\n",
    "import pandas as pd\n",
    "from io import StringIO\n",
    "\n",
    "# for all commits which changed your specific file:\n",
    "for c in tqdm(file_map['img/dynamic/Rt_rawData/Germany_Rt.csv']):\n",
    "    # download file for a specific commit\n",
    "    file = project.files.raw(file_path='img/dynamic/Rt_rawData/Germany_Rt.csv', ref=c.get_id())\n",
    "    # convert file from byte to str\n",
    "    s = str(file, 'utf-8')\n",
    "    # read file as DataFrame\n",
    "    df = pd.read_csv(StringIO(s))\n",
    "    # write DataFrame to .csv-file\n",
    "    df.to_csv(\"../data-raw/Braunschweig/\" + c._attrs['created_at'][0:10] + \"-Braunschweig_raw.csv\", index_label=False, index=False)\n",
    "\"\"\""
   ]
  }
 ],
 "metadata": {
  "interpreter": {
   "hash": "3209603dc16fa08139850b0fbcec5529b2035f6d8448c78a588ebbadffc6ff1e"
  },
  "kernelspec": {
   "display_name": "Python 3.9.1 64-bit",
   "language": "python",
   "name": "python3"
  },
  "language_info": {
   "codemirror_mode": {
    "name": "ipython",
    "version": 3
   },
   "file_extension": ".py",
   "mimetype": "text/x-python",
   "name": "python",
   "nbconvert_exporter": "python",
   "pygments_lexer": "ipython3",
   "version": "3.9.1"
  },
  "orig_nbformat": 4
 },
 "nbformat": 4,
 "nbformat_minor": 2
}
